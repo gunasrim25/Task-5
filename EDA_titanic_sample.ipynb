{
  "cells": [
    {
      "cell_type": "markdown",
      "metadata": {},
      "source": [
        "# Titanic EDA (Sample)\n",
        "This notebook performs Exploratory Data Analysis (EDA) on the provided `titanic_dataset_sample.csv`. It includes data summary, missing value checks, univariate and bivariate visualizations, and a summary of insights."
      ]
    },
    {
      "cell_type": "code",
      "execution_count": null,
      "metadata": {},
      "outputs": [],
      "source": [
        "import pandas as pd\n",
        "import numpy as np\n",
        "import matplotlib.pyplot as plt\n",
        "import seaborn as sns\n",
        "sns.set_style('whitegrid')\n",
        "\n",
        "# Load dataset\n",
        "df = pd.read_csv('titanic_dataset_sample.csv')\n",
        "df.head()"
      ]
    },
    {
      "cell_type": "code",
      "execution_count": null,
      "metadata": {},
      "outputs": [],
      "source": [
        "# Basic info\n",
        "df.info()\n",
        "df.describe(include='all')"
      ]
    },
    {
      "cell_type": "code",
      "execution_count": null,
      "metadata": {},
      "outputs": [],
      "source": [
        "# Missing values\n",
        "df.isnull().sum()\n",
        "\n",
        "# Univariate: distributions\n",
        "plt.figure(figsize=(8,4))\n",
        "df['Age'].hist(bins=10)\n",
        "plt.title('Age distribution')\n",
        "plt.xlabel('Age')\n",
        "plt.ylabel('Count')\n",
        "plt.show()"
      ]
    },
    {
      "cell_type": "code",
      "execution_count": null,
      "metadata": {},
      "outputs": [],
      "source": [
        "# Bivariate: Survived vs Pclass\n",
        "sns.countplot(data=df, x='Pclass', hue='Survived')\n",
        "plt.title('Survival by Pclass')\n",
        "plt.show()"
      ]
    },
    {
      "cell_type": "code",
      "execution_count": null,
      "metadata": {},
      "outputs": [],
      "source": [
        "# Correlation heatmap (numeric cols)\n",
        "num_cols = df.select_dtypes(include=np.number).columns.tolist()\n",
        "plt.figure(figsize=(6,4))\n",
        "sns.heatmap(df[num_cols].corr(), annot=True, fmt='.2f')\n",
        "plt.title('Correlation heatmap')\n",
        "plt.show()"
      ]
    },
    {
      "cell_type": "markdown",
      "metadata": {},
      "source": [
        "## Observations\n",
        "- Check the outputs of the above cells to see counts, missing values, and relationships.\n",
        "- `Pclass` appears associated with survival in many Titanic analyses: higher class often had higher survival rates.\n",
        "- `Age` has missing values in this sample; consider imputation strategies for real dataset.\n"
      ]
    }
  ],
  "metadata": {
    "kernelspec": {
      "display_name": "Python 3",
      "language": "python",
      "name": "python3"
    },
    "language_info": {
      "name": "python",
      "version": "3.11"
    }
  },
  "nbformat": 4,
  "nbformat_minor": 5
}